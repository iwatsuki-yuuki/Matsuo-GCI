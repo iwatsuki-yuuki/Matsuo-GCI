{
  "nbformat": 4,
  "nbformat_minor": 0,
  "metadata": {
    "colab": {
      "provenance": [],
      "authorship_tag": "ABX9TyNQh3etskwdQX6Z4LvmjavZ",
      "include_colab_link": true
    },
    "kernelspec": {
      "name": "python3",
      "display_name": "Python 3"
    },
    "language_info": {
      "name": "python"
    }
  },
  "cells": [
    {
      "cell_type": "markdown",
      "metadata": {
        "id": "view-in-github",
        "colab_type": "text"
      },
      "source": [
        "<a href=\"https://colab.research.google.com/github/iwatsuki-yuuki/Matsuo-GCI/blob/main/conpetion1%EF%BC%88%E6%8F%90%E5%87%BA%E7%94%A8%E3%82%B3%E3%83%BC%E3%83%89%EF%BC%89.ipynb\" target=\"_parent\"><img src=\"https://colab.research.google.com/assets/colab-badge.svg\" alt=\"Open In Colab\"/></a>"
      ]
    },
    {
      "cell_type": "code",
      "execution_count": null,
      "metadata": {
        "id": "lp344Ont8ZjL"
      },
      "outputs": [],
      "source": [
        "# ドライブ読み込み\n",
        "from google.colab import drive\n",
        "drive.mount('/content/drive')"
      ]
    },
    {
      "cell_type": "code",
      "source": [
        "# ライブラリのインポート\n",
        "import numpy as np\n",
        "import pandas as pd\n",
        "from pandas import DataFrame, Series\n",
        "import matplotlib.pyplot as plt\n",
        "import seaborn as sns\n",
        "\n",
        "from sklearn.model_selection import train_test_split, GridSearchCV\n",
        "from sklearn.ensemble import RandomForestClassifier\n",
        "from sklearn.linear_model import LogisticRegression\n",
        "from sklearn.neural_network import MLPClassifier\n",
        "\n",
        "import warnings\n",
        "warnings.filterwarnings('ignore')"
      ],
      "metadata": {
        "id": "aQE9TYEs8nZU"
      },
      "execution_count": null,
      "outputs": []
    },
    {
      "cell_type": "code",
      "source": [
        "# pandas-profilingを使ってみる\n",
        "!pip install ydata-profiling"
      ],
      "metadata": {
        "id": "DfGsrkYXBUdu"
      },
      "execution_count": null,
      "outputs": []
    },
    {
      "cell_type": "code",
      "source": [
        "# 使用するデータセットの読み込み\n",
        "path =  '/content/drive/MyDrive/Colab Notebooks/GCI/conp/'\n",
        "\n",
        "df = pd.read_csv(path + 'train.csv')\n",
        "df_test = pd.read_csv(path + 'test.csv')"
      ],
      "metadata": {
        "id": "n-vGCzIW9xlv"
      },
      "execution_count": null,
      "outputs": []
    },
    {
      "cell_type": "code",
      "source": [
        "# データの理解\n",
        "print(df.shape)\n",
        "print(df_test.shape)"
      ],
      "metadata": {
        "id": "FhA19jXz-vXj"
      },
      "execution_count": null,
      "outputs": []
    },
    {
      "cell_type": "code",
      "source": [
        "# 訓練データにはPerished(死亡したかどうか)のデータがあって今回はこれを予想するやつ\n",
        "df.head()"
      ],
      "metadata": {
        "id": "TJ7WSwlI-51U"
      },
      "execution_count": null,
      "outputs": []
    },
    {
      "cell_type": "code",
      "source": [
        "df_test.head()"
      ],
      "metadata": {
        "id": "sNfRzKPk_FLv"
      },
      "execution_count": null,
      "outputs": []
    },
    {
      "cell_type": "code",
      "source": [
        "# データが何型が確認\n",
        "df.dtypes"
      ],
      "metadata": {
        "id": "81yqSR1K_JSp"
      },
      "execution_count": null,
      "outputs": []
    },
    {
      "cell_type": "code",
      "source": [
        "# 欠損値の確認\n",
        "df.isnull().sum()"
      ],
      "metadata": {
        "id": "wd3cLWsv_fCd"
      },
      "execution_count": null,
      "outputs": []
    },
    {
      "cell_type": "code",
      "source": [
        "df_test.isnull().sum()"
      ],
      "metadata": {
        "id": "DwwOc4EC_7Jc"
      },
      "execution_count": null,
      "outputs": []
    },
    {
      "cell_type": "code",
      "source": [
        "# 生存者の割合の確認\n",
        "df['Perished'].value_counts()"
      ],
      "metadata": {
        "id": "V3wNhWA5_9qo"
      },
      "execution_count": null,
      "outputs": []
    },
    {
      "cell_type": "code",
      "source": [
        "# 一様図示\n",
        "df['Perished'].value_counts().plot.pie(figsize=(5,5), autopct='%1.1f%%')"
      ],
      "metadata": {
        "id": "3uoRUBNqAf49"
      },
      "execution_count": null,
      "outputs": []
    },
    {
      "cell_type": "code",
      "source": [
        "from ydata_profiling import ProfileReport\n",
        "# プロファイリングレポートを作成\n",
        "profile = ProfileReport(df, title='Pandas Profiling Report', explorative=True)\n",
        "\n",
        "# Jupyter Notebook で表示\n",
        "profile.to_notebook_iframe()"
      ],
      "metadata": {
        "id": "X1uik7bqAvYG"
      },
      "execution_count": null,
      "outputs": []
    },
    {
      "cell_type": "code",
      "source": [
        "# NameにMr、Mrs、Msの三つでgroupbyし、それぞれで年齢の平均値を算出する\n",
        "# それで欠損値を補う\n",
        "# 敬称を抽出する関数（正規表現を使用）\n",
        "df['Title'] = df['Name'].str.extract(r'\\b(Mr|Mrs|Ms|Miss)\\b', expand=False)\n",
        "df.head()"
      ],
      "metadata": {
        "id": "eNvTqW0jCS3K"
      },
      "execution_count": null,
      "outputs": []
    },
    {
      "cell_type": "code",
      "source": [
        "# 平均値を算出\n",
        "title_age_means = df.groupby('Title')['Age'].mean()\n",
        "title_age_means"
      ],
      "metadata": {
        "id": "SHquk16wDk2R"
      },
      "execution_count": null,
      "outputs": []
    },
    {
      "cell_type": "code",
      "source": [
        "# 欠損値を補完\n",
        "def fill_age(row):\n",
        "  if pd.isnull(row['Age']) and row['Title'] in title_age_means:\n",
        "    return title_age_means[row['Title']]\n",
        "  return row['Age']\n",
        "\n",
        "df['Age'] = df.apply(fill_age, axis=1)\n",
        "df.isnull().sum()"
      ],
      "metadata": {
        "id": "VYXbqJ0JEOjr"
      },
      "execution_count": null,
      "outputs": []
    },
    {
      "cell_type": "code",
      "source": [
        "# 残りのAgeのNuLLには全体の平均を入れる\n",
        "all_mean_age = df['Age'].mean()\n",
        "df['Age'] = df['Age'].fillna(all_mean_age)\n",
        "df.isnull().sum()"
      ],
      "metadata": {
        "id": "1nYjZAYhE5lF"
      },
      "execution_count": null,
      "outputs": []
    },
    {
      "cell_type": "code",
      "source": [
        "# 同様の内容をテストデータにも施す\n",
        "df_test['Title'] = df_test['Name'].str.extract(r'\\b(Mr|Mrs|Ms|Miss)\\b', expand=False)\n",
        "df.head()\n",
        "# 欠損値を補完\n",
        "def fill_age(row):\n",
        "  if pd.isnull(row['Age']) and row['Title'] in title_age_means:\n",
        "    return title_age_means[row['Title']]\n",
        "  return row['Age']\n",
        "\n",
        "df_test['Age'] = df_test.apply(fill_age, axis=1)\n",
        "\n",
        "df_test['Age'] = df_test['Age'].fillna(all_mean_age)\n",
        "df_test.isnull().sum()"
      ],
      "metadata": {
        "id": "4vjBiv5fFsiE"
      },
      "execution_count": null,
      "outputs": []
    },
    {
      "cell_type": "code",
      "source": [
        "# Cabinが欠損値が多いので全体のうちどのくらいが欠損値なのか判断する\n",
        "df['Cabin'].isnull().value_counts()"
      ],
      "metadata": {
        "id": "jX5Rn8-PH8fn"
      },
      "execution_count": null,
      "outputs": []
    },
    {
      "cell_type": "code",
      "source": [
        "df_test['Cabin'].isnull().value_counts()"
      ],
      "metadata": {
        "id": "LzHbpiQdIpde"
      },
      "execution_count": null,
      "outputs": []
    },
    {
      "cell_type": "code",
      "source": [
        "# ほとんどが欠損値なのでこの列を削除する\n",
        "df = df.drop('Cabin',axis=1)\n",
        "df_test = df_test.drop('Cabin',axis=1)\n",
        "df.isnull().sum()"
      ],
      "metadata": {
        "id": "TnHNZkm2I8f_"
      },
      "execution_count": null,
      "outputs": []
    },
    {
      "cell_type": "code",
      "source": [
        "# Emberkの欠損値の中身を確認\n",
        "df['Embarked'].value_counts()"
      ],
      "metadata": {
        "id": "nE5Yz0nyJXBz"
      },
      "execution_count": null,
      "outputs": []
    },
    {
      "cell_type": "code",
      "source": [
        "# 欠損値を全てSで保管する\n",
        "df['Embarked'].fillna('S', inplace=True)\n",
        "df_test['Embarked'].fillna('S', inplace=True)\n",
        "\n",
        "df.isnull().sum()"
      ],
      "metadata": {
        "id": "m0_GxbfSKUCr"
      },
      "execution_count": null,
      "outputs": []
    },
    {
      "cell_type": "code",
      "source": [
        "# テストデータのfareのnunを消してはだめ、データのサイズが変わるからここでは平均値で補完する\n",
        "df_test['Fare'] = df_test['Fare'].fillna(df_test['Fare'].mean())\n",
        "df_test.isnull().sum()"
      ],
      "metadata": {
        "id": "HqXzTeqkbiU7"
      },
      "execution_count": null,
      "outputs": []
    },
    {
      "cell_type": "code",
      "source": [
        "# カテゴリカルデータの処理\n",
        "# 料金のデータはデカすぎるから正規化\n",
        "# 性別は数値型じゃないデータをonehot表現する\n",
        "# C,Q,Sはブール値で数値型として扱えるからそのままでいい\n",
        "# Pclassも数値だけどカテゴリカルデータであるのでdumysで展開しておく\n",
        "embarked = pd.concat([df['Embarked'], df_test['Embarked']])\n",
        "\n",
        "embarked_ohe = pd.get_dummies(embarked)\n",
        "\n",
        "embarked_ohe_train = embarked_ohe[:891]\n",
        "embarked_ohe_test = embarked_ohe[891:]\n",
        "\n",
        "df = pd.concat([df, embarked_ohe_train], axis=1)\n",
        "df_test = pd.concat([df_test, embarked_ohe_test], axis=1)\n",
        "\n",
        "df.drop('Embarked', axis=1, inplace=True)\n",
        "df_test.drop('Embarked', axis=1, inplace=True)\n",
        "df.head()"
      ],
      "metadata": {
        "id": "Mo8jLEYZKby9"
      },
      "execution_count": null,
      "outputs": []
    },
    {
      "cell_type": "code",
      "source": [
        "# 性別は数値型じゃないデータをonehot表現する\n",
        "# Pclassも数値だけどカテゴリカルデータであるのでdumysで展開しておく\n",
        "df = pd.get_dummies(df, columns=['Sex', 'Pclass'])\n",
        "df_test = pd.get_dummies(df_test, columns=['Sex', 'Pclass'])\n",
        "df.head()"
      ],
      "metadata": {
        "id": "zwSlv81MRmoI"
      },
      "execution_count": null,
      "outputs": []
    },
    {
      "cell_type": "code",
      "source": [
        "# チケット番号の取り扱いはこの記事を参考にした\n",
        "# https://qiita.com/seri28/items/ae98aa1965fc29cd864d\n",
        "# うまく数値に変換できなかったのでパス"
      ],
      "metadata": {
        "id": "s4w-jajCR4bz"
      },
      "execution_count": null,
      "outputs": []
    },
    {
      "cell_type": "code",
      "source": [
        "# Fareの正規化\n",
        "from sklearn.preprocessing import StandardScaler\n",
        "\n",
        "scaler = StandardScaler()\n",
        "\n",
        "# 正規化の学習は学習データのみにさせて、その結果を学習データとテストデータに利用する\n",
        "scaler.fit(df[['Fare']])\n",
        "\n",
        "df['Fare'] = scaler.transform(df[['Fare']])\n",
        "df_test['Fare'] = scaler.transform(df_test[['Fare']])\n",
        "df.head()"
      ],
      "metadata": {
        "id": "BEHJgi1FTQsa"
      },
      "execution_count": null,
      "outputs": []
    },
    {
      "cell_type": "code",
      "source": [
        "# 全てのブール値を念の為0と1に変換\n",
        "bool_cols = df.select_dtypes(include='bool').columns\n",
        "df[bool_cols] = df[bool_cols].astype(int)\n",
        "df.head()"
      ],
      "metadata": {
        "id": "p-5Qeh0pVZEe"
      },
      "execution_count": null,
      "outputs": []
    },
    {
      "cell_type": "code",
      "source": [
        "# 説明変数を決める\n",
        "df.columns"
      ],
      "metadata": {
        "id": "kNJvpCetVjkf"
      },
      "execution_count": null,
      "outputs": []
    },
    {
      "cell_type": "code",
      "source": [
        "X = df.drop(columns=['Name', 'Ticket', 'Title', 'Perished']).values\n",
        "y = df['Perished']\n",
        "\n",
        "X_test = df_test.drop(columns=['Name', 'Ticket', 'Title']).values"
      ],
      "metadata": {
        "id": "n9LUb8vaXUEg"
      },
      "execution_count": null,
      "outputs": []
    },
    {
      "cell_type": "code",
      "source": [
        "# データの分割（ホールドアウト方法）\n",
        "X_train, X_valid, y_train, y_valid = train_test_split(X, y, test_size=0.3, random_state=42)"
      ],
      "metadata": {
        "id": "G7JEIAoGXx5E"
      },
      "execution_count": null,
      "outputs": []
    },
    {
      "cell_type": "code",
      "source": [
        "# ロジスティック回帰\n",
        "\n",
        "lr = LogisticRegression(random_state=42)\n",
        "\n",
        "lr.fit(X_train, y_train)\n",
        "\n",
        "print('Train Score: {}'.format(round(lr.score(X_train, y_train), 3)))\n",
        "print(' Test Score: {}'.format(round(lr.score(X_valid, y_valid), 3)))"
      ],
      "metadata": {
        "id": "n7m6eQ0lX-pt"
      },
      "execution_count": null,
      "outputs": []
    },
    {
      "cell_type": "code",
      "source": [
        "# ランダムフォレスト(1)\n",
        "rfc = RandomForestClassifier(max_depth=10, min_samples_leaf=1, n_estimators=100, n_jobs=-1, random_state=42)\n",
        "rfc.fit(X_train, y_train)\n",
        "\n",
        "param_grid = {'max_depth': [3, 5, 7],\n",
        "              'min_samples_leaf': [1, 2, 4]}\n",
        "\n",
        "for max_depth in param_grid['max_depth']:\n",
        "    for min_samples_leaf in param_grid['min_samples_leaf']:\n",
        "        rfc_grid = RandomForestClassifier(max_depth=max_depth, min_samples_leaf=min_samples_leaf,\n",
        "                                            n_estimators=100, n_jobs=-1, random_state=42)\n",
        "        rfc_grid.fit(X_train, y_train)\n",
        "        print('max_depth: {}, min_samples_leaf: {}'.format(max_depth, min_samples_leaf))\n",
        "        print('    Train Score: {}, Test Score: {}'.format(round(rfc_grid.score(X_train, y_train), 3),\n",
        "                                                           round(rfc_grid.score(X_valid, y_valid), 3)))"
      ],
      "metadata": {
        "id": "33tfJr_rZ2y0"
      },
      "execution_count": null,
      "outputs": []
    },
    {
      "cell_type": "code",
      "source": [],
      "metadata": {
        "id": "jg8VIB1Wh-W9"
      },
      "execution_count": null,
      "outputs": []
    },
    {
      "cell_type": "code",
      "source": [
        "# クロスバリエーションを用いたランダムフォレスト（ハイパラcvを用調整）\n",
        "rfc_gs = GridSearchCV(RandomForestClassifier(n_estimators=100, n_jobs=-1, random_state=42), param_grid, cv=10)\n",
        "rfc_gs.fit(X, y)\n",
        "\n",
        "print('Best Parameters: {}'.format(rfc_gs.best_params_))\n",
        "print('CV Score: {}'.format(round(rfc_gs.best_score_, 3)))"
      ],
      "metadata": {
        "id": "iREt6WKSaPFR"
      },
      "execution_count": null,
      "outputs": []
    },
    {
      "cell_type": "code",
      "source": [
        "# 多層パーセプトロン\n",
        "mlpc = MLPClassifier(hidden_layer_sizes=(100, 100, 10), random_state=0)\n",
        "mlpc.fit(X_train, y_train)\n",
        "\n",
        "print('Multilayer Perceptron \\n')\n",
        "print('Train Score: {}'.format(round(mlpc.score(X_train, y_train), 3)))\n",
        "print(' Test Score: {}'.format(round(mlpc.score(X_valid, y_valid), 3)))"
      ],
      "metadata": {
        "id": "-TWJrgzeap1n"
      },
      "execution_count": null,
      "outputs": []
    },
    {
      "cell_type": "code",
      "source": [
        "# アンサンブリング\n",
        "rfc_pred = rfc.predict_proba(X_test)\n",
        "lr_pred = lr.predict_proba(X_test)\n",
        "# mlpc_pred = mlpc.predict_proba(X_test)\n",
        "\n",
        "pred_proba = (rfc_pred + lr_pred) / 2\n",
        "pred = pred_proba.argmax(axis=1)"
      ],
      "metadata": {
        "id": "AOT8U-7BbHOE"
      },
      "execution_count": null,
      "outputs": []
    },
    {
      "cell_type": "code",
      "source": [
        "# アンさんブリングしない方法\n",
        "pred_proba = lr_pred\n",
        "pred = pred_proba.argmax(axis=1)"
      ],
      "metadata": {
        "id": "7b3abH-_iN87"
      },
      "execution_count": null,
      "outputs": []
    },
    {
      "cell_type": "code",
      "source": [
        "path =  '/content/drive/MyDrive/Colab Notebooks/GCI/conp/'\n",
        "\n",
        "submission = pd.read_csv(path + 'gender_submission.csv')\n",
        "submission"
      ],
      "metadata": {
        "id": "1DcF5spHbYe9"
      },
      "execution_count": null,
      "outputs": []
    },
    {
      "cell_type": "code",
      "source": [
        "pred.shape"
      ],
      "metadata": {
        "id": "lpJO6zqgczzT"
      },
      "execution_count": null,
      "outputs": []
    },
    {
      "cell_type": "code",
      "source": [
        "submission['Perished'] = pred\n",
        "submission"
      ],
      "metadata": {
        "id": "6L0Rv1R5bbIo"
      },
      "execution_count": null,
      "outputs": []
    },
    {
      "cell_type": "code",
      "source": [
        "submission.to_csv('/content/drive/MyDrive/Colab Notebooks/GCI/conp/submit03.csv', index=False)"
      ],
      "metadata": {
        "id": "IXjmqWoAevw7"
      },
      "execution_count": null,
      "outputs": []
    },
    {
      "cell_type": "code",
      "source": [
        "# kaggle用のデータ整形\n",
        "submission = submission.rename(columns={'Perished': 'Survived'})"
      ],
      "metadata": {
        "id": "tTR93VBCfAsg"
      },
      "execution_count": null,
      "outputs": []
    },
    {
      "cell_type": "code",
      "source": [
        "submission = submission[['PassengerId', 'Survived']]"
      ],
      "metadata": {
        "id": "HmVwTjFzhO12"
      },
      "execution_count": null,
      "outputs": []
    },
    {
      "cell_type": "code",
      "source": [
        "submission.to_csv('/content/drive/MyDrive/Colab Notebooks/GCI/conp/submit04.csv', index=False)"
      ],
      "metadata": {
        "id": "uTi-3fVFhQfD"
      },
      "execution_count": null,
      "outputs": []
    }
  ]
}